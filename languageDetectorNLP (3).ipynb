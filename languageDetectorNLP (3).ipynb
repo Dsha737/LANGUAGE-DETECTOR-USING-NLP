{
  "metadata": {
    "kernelspec": {
      "name": "python",
      "display_name": "Python (Pyodide)",
      "language": "python"
    },
    "language_info": {
      "codemirror_mode": {
        "name": "python",
        "version": 3
      },
      "file_extension": ".py",
      "mimetype": "text/x-python",
      "name": "python",
      "nbconvert_exporter": "python",
      "pygments_lexer": "ipython3",
      "version": "3.8"
    }
  },
  "nbformat_minor": 5,
  "nbformat": 4,
  "cells": [
    {
      "id": "6be41e76-2d06-48c5-9e22-20a17ae4b51a",
      "cell_type": "code",
      "source": "import pandas as pd\nimport numpy as np",
      "metadata": {
        "trusted": true
      },
      "outputs": [],
      "execution_count": 1
    },
    {
      "id": "4e02e566-4a8a-4ee7-9c8c-19942a8b3cf9",
      "cell_type": "code",
      "source": "data = pd.read_csv(\"language.csv\")",
      "metadata": {
        "trusted": true
      },
      "outputs": [],
      "execution_count": 2
    },
    {
      "id": "d107bb94-c92e-476a-b954-d74e173a7475",
      "cell_type": "code",
      "source": "data",
      "metadata": {
        "trusted": true
      },
      "outputs": [
        {
          "execution_count": 3,
          "output_type": "execute_result",
          "data": {
            "text/plain": "                                                    Text  language\n0      klement gottwaldi surnukeha palsameeriti ning ...  Estonian\n1      sebes joseph pereira thomas  på eng the jesuit...   Swedish\n2      ถนนเจริญกรุง อักษรโรมัน thanon charoen krung เ...      Thai\n3      விசாகப்பட்டினம் தமிழ்ச்சங்கத்தை இந்துப் பத்திர...     Tamil\n4      de spons behoort tot het geslacht haliclona en...     Dutch\n...                                                  ...       ...\n21995  hors du terrain les années  et  sont des année...    French\n21996  ใน พศ  หลักจากที่เสด็จประพาสแหลมมลายู ชวา อินเ...      Thai\n21997  con motivo de la celebración del septuagésimoq...   Spanish\n21998  年月，當時還只有歲的她在美國出道，以mai-k名義推出首張英文《baby i like》，由...   Chinese\n21999   aprilie sonda spațială messenger a nasa și-a ...  Romanian\n\n[22000 rows x 2 columns]",
            "text/html": "<div>\n<style scoped>\n    .dataframe tbody tr th:only-of-type {\n        vertical-align: middle;\n    }\n\n    .dataframe tbody tr th {\n        vertical-align: top;\n    }\n\n    .dataframe thead th {\n        text-align: right;\n    }\n</style>\n<table border=\"1\" class=\"dataframe\">\n  <thead>\n    <tr style=\"text-align: right;\">\n      <th></th>\n      <th>Text</th>\n      <th>language</th>\n    </tr>\n  </thead>\n  <tbody>\n    <tr>\n      <th>0</th>\n      <td>klement gottwaldi surnukeha palsameeriti ning ...</td>\n      <td>Estonian</td>\n    </tr>\n    <tr>\n      <th>1</th>\n      <td>sebes joseph pereira thomas  på eng the jesuit...</td>\n      <td>Swedish</td>\n    </tr>\n    <tr>\n      <th>2</th>\n      <td>ถนนเจริญกรุง อักษรโรมัน thanon charoen krung เ...</td>\n      <td>Thai</td>\n    </tr>\n    <tr>\n      <th>3</th>\n      <td>விசாகப்பட்டினம் தமிழ்ச்சங்கத்தை இந்துப் பத்திர...</td>\n      <td>Tamil</td>\n    </tr>\n    <tr>\n      <th>4</th>\n      <td>de spons behoort tot het geslacht haliclona en...</td>\n      <td>Dutch</td>\n    </tr>\n    <tr>\n      <th>...</th>\n      <td>...</td>\n      <td>...</td>\n    </tr>\n    <tr>\n      <th>21995</th>\n      <td>hors du terrain les années  et  sont des année...</td>\n      <td>French</td>\n    </tr>\n    <tr>\n      <th>21996</th>\n      <td>ใน พศ  หลักจากที่เสด็จประพาสแหลมมลายู ชวา อินเ...</td>\n      <td>Thai</td>\n    </tr>\n    <tr>\n      <th>21997</th>\n      <td>con motivo de la celebración del septuagésimoq...</td>\n      <td>Spanish</td>\n    </tr>\n    <tr>\n      <th>21998</th>\n      <td>年月，當時還只有歲的她在美國出道，以mai-k名義推出首張英文《baby i like》，由...</td>\n      <td>Chinese</td>\n    </tr>\n    <tr>\n      <th>21999</th>\n      <td>aprilie sonda spațială messenger a nasa și-a ...</td>\n      <td>Romanian</td>\n    </tr>\n  </tbody>\n</table>\n<p>22000 rows × 2 columns</p>\n</div>"
          },
          "metadata": {}
        }
      ],
      "execution_count": 3
    },
    {
      "id": "800c3e56-e84e-4694-88a8-d4ae7d326f62",
      "cell_type": "code",
      "source": "from sklearn.feature_extraction.text import CountVectorizer",
      "metadata": {
        "trusted": true
      },
      "outputs": [],
      "execution_count": 4
    },
    {
      "id": "bda40c52-7840-4fb2-8097-34e6f4df65b3",
      "cell_type": "code",
      "source": "# Import the function\nfrom sklearn.model_selection import train_test_split\n\n\n",
      "metadata": {
        "trusted": true
      },
      "outputs": [],
      "execution_count": 5
    },
    {
      "id": "f17dcead-482d-4286-97d0-9a55ad3aaaad",
      "cell_type": "code",
      "source": "from sklearn.naive_bayes import MultinomialNB",
      "metadata": {
        "trusted": true
      },
      "outputs": [],
      "execution_count": 6
    },
    {
      "id": "bc0abb48-a410-4af8-b942-998353d37d9b",
      "cell_type": "code",
      "source": "data = pd.read_csv(\"language.csv\",encoding='utf-8')\n",
      "metadata": {
        "trusted": true
      },
      "outputs": [],
      "execution_count": 7
    },
    {
      "id": "0ed570cd-be88-4e85-be9e-c92266ee140e",
      "cell_type": "code",
      "source": "data\n",
      "metadata": {
        "trusted": true
      },
      "outputs": [
        {
          "execution_count": 8,
          "output_type": "execute_result",
          "data": {
            "text/plain": "                                                    Text  language\n0      klement gottwaldi surnukeha palsameeriti ning ...  Estonian\n1      sebes joseph pereira thomas  på eng the jesuit...   Swedish\n2      ถนนเจริญกรุง อักษรโรมัน thanon charoen krung เ...      Thai\n3      விசாகப்பட்டினம் தமிழ்ச்சங்கத்தை இந்துப் பத்திர...     Tamil\n4      de spons behoort tot het geslacht haliclona en...     Dutch\n...                                                  ...       ...\n21995  hors du terrain les années  et  sont des année...    French\n21996  ใน พศ  หลักจากที่เสด็จประพาสแหลมมลายู ชวา อินเ...      Thai\n21997  con motivo de la celebración del septuagésimoq...   Spanish\n21998  年月，當時還只有歲的她在美國出道，以mai-k名義推出首張英文《baby i like》，由...   Chinese\n21999   aprilie sonda spațială messenger a nasa și-a ...  Romanian\n\n[22000 rows x 2 columns]",
            "text/html": "<div>\n<style scoped>\n    .dataframe tbody tr th:only-of-type {\n        vertical-align: middle;\n    }\n\n    .dataframe tbody tr th {\n        vertical-align: top;\n    }\n\n    .dataframe thead th {\n        text-align: right;\n    }\n</style>\n<table border=\"1\" class=\"dataframe\">\n  <thead>\n    <tr style=\"text-align: right;\">\n      <th></th>\n      <th>Text</th>\n      <th>language</th>\n    </tr>\n  </thead>\n  <tbody>\n    <tr>\n      <th>0</th>\n      <td>klement gottwaldi surnukeha palsameeriti ning ...</td>\n      <td>Estonian</td>\n    </tr>\n    <tr>\n      <th>1</th>\n      <td>sebes joseph pereira thomas  på eng the jesuit...</td>\n      <td>Swedish</td>\n    </tr>\n    <tr>\n      <th>2</th>\n      <td>ถนนเจริญกรุง อักษรโรมัน thanon charoen krung เ...</td>\n      <td>Thai</td>\n    </tr>\n    <tr>\n      <th>3</th>\n      <td>விசாகப்பட்டினம் தமிழ்ச்சங்கத்தை இந்துப் பத்திர...</td>\n      <td>Tamil</td>\n    </tr>\n    <tr>\n      <th>4</th>\n      <td>de spons behoort tot het geslacht haliclona en...</td>\n      <td>Dutch</td>\n    </tr>\n    <tr>\n      <th>...</th>\n      <td>...</td>\n      <td>...</td>\n    </tr>\n    <tr>\n      <th>21995</th>\n      <td>hors du terrain les années  et  sont des année...</td>\n      <td>French</td>\n    </tr>\n    <tr>\n      <th>21996</th>\n      <td>ใน พศ  หลักจากที่เสด็จประพาสแหลมมลายู ชวา อินเ...</td>\n      <td>Thai</td>\n    </tr>\n    <tr>\n      <th>21997</th>\n      <td>con motivo de la celebración del septuagésimoq...</td>\n      <td>Spanish</td>\n    </tr>\n    <tr>\n      <th>21998</th>\n      <td>年月，當時還只有歲的她在美國出道，以mai-k名義推出首張英文《baby i like》，由...</td>\n      <td>Chinese</td>\n    </tr>\n    <tr>\n      <th>21999</th>\n      <td>aprilie sonda spațială messenger a nasa și-a ...</td>\n      <td>Romanian</td>\n    </tr>\n  </tbody>\n</table>\n<p>22000 rows × 2 columns</p>\n</div>"
          },
          "metadata": {}
        }
      ],
      "execution_count": 8
    },
    {
      "id": "984daae7-9b8e-4805-b3e6-c8111d14ea73",
      "cell_type": "code",
      "source": "data.isnull().sum()",
      "metadata": {
        "trusted": true
      },
      "outputs": [
        {
          "execution_count": 9,
          "output_type": "execute_result",
          "data": {
            "text/plain": "Text        0\nlanguage    0\ndtype: int64"
          },
          "metadata": {}
        }
      ],
      "execution_count": 9
    },
    {
      "id": "c3e491ba-3d65-4b34-b4de-01a7706b9692",
      "cell_type": "code",
      "source": "data['language'].value_counts()",
      "metadata": {
        "trusted": true
      },
      "outputs": [
        {
          "execution_count": 10,
          "output_type": "execute_result",
          "data": {
            "text/plain": "language\nEstonian      1000\nSwedish       1000\nEnglish       1000\nRussian       1000\nRomanian      1000\nPersian       1000\nPushto        1000\nSpanish       1000\nHindi         1000\nKorean        1000\nChinese       1000\nFrench        1000\nPortugese     1000\nIndonesian    1000\nUrdu          1000\nLatin         1000\nTurkish       1000\nJapanese      1000\nDutch         1000\nTamil         1000\nThai          1000\nArabic        1000\nName: count, dtype: int64"
          },
          "metadata": {}
        }
      ],
      "execution_count": 10
    },
    {
      "id": "873ff953-7061-437e-9e12-c3c7a52bcc87",
      "cell_type": "code",
      "source": "data.dtypes\n",
      "metadata": {
        "trusted": true
      },
      "outputs": [
        {
          "execution_count": 11,
          "output_type": "execute_result",
          "data": {
            "text/plain": "Text        object\nlanguage    object\ndtype: object"
          },
          "metadata": {}
        }
      ],
      "execution_count": 11
    },
    {
      "id": "36e37e35-3e3e-471d-aa92-9a629a64bbe4",
      "cell_type": "code",
      "source": "x = np.array(data['Text'])\ny = np.array(data['language'])",
      "metadata": {
        "trusted": true
      },
      "outputs": [],
      "execution_count": 12
    },
    {
      "id": "a297c533-47d0-4c93-97ac-c94338d3247e",
      "cell_type": "code",
      "source": "print(x)\n",
      "metadata": {
        "trusted": true
      },
      "outputs": [
        {
          "name": "stdout",
          "output_type": "stream",
          "text": "['klement gottwaldi surnukeha palsameeriti ning paigutati mausoleumi surnukeha oli aga liiga hilja ja oskamatult palsameeritud ning hakkas ilmutama lagunemise tundemärke  aastal viidi ta surnukeha mausoleumist ära ja kremeeriti zlíni linn kandis aastatel – nime gottwaldov ukrainas harkivi oblastis kandis zmiivi linn aastatel – nime gotvald'\n 'sebes joseph pereira thomas  på eng the jesuits and the sino-russian treaty of nerchinsk  the diary of thomas pereira bibliotheca instituti historici s i --   rome libris '\n 'ถนนเจริญกรุง อักษรโรมัน thanon charoen krung เริ่มตั้งแต่ถนนสนามไชยถึงแม่น้ำเจ้าพระยาที่ถนนตก กรุงเทพมหานคร เป็นถนนรุ่นแรกที่ใช้เทคนิคการสร้างแบบตะวันตก ปัจจุบันผ่านพื้นที่เขตพระนคร เขตป้อมปราบศัตรูพ่าย เขตสัมพันธวงศ์ เขตบางรัก เขตสาทร และเขตบางคอแหลม'\n ...\n 'con motivo de la celebración del septuagésimoquinto ° aniversario de la fundación del departamento en  guillermo ceballos espinosa presentó a la gobernación de caldas por encargo de su titular dilia estrada de gómez el himno que fue adoptado para solemnizar dicha efemérides y que siguieron interpretando las bandas de música y los planteles de educación de esta sección del país en retretas y actos oficiales con gran aceptación[]\\u200b'\n '年月，當時還只有歲的她在美國出道，以mai-k名義推出首張英文《baby i like》，由美國的獨立廠牌bip·record發行，以外國輸入盤的形式在日本發售，旋即被抢购一空。其後於月日發行以倉木麻衣名義發行的首張日文單曲《love day after tomorrow》，正式於日本出道。這張單曲初動銷量只得約萬張，可是其後每週銷量一直上升，並於年月正式突破百萬銷量，合计万张。成為年最耀眼的新人歌手。'\n ' aprilie sonda spațială messenger a nasa și-a încheiat misiunea de studiu de  ani prăbușindu-se pe suprafața planetei mercur sonda a rămas fără combustibil fiind împinsă de gravitația solară din ce în ce mai aproape de mercur']\n"
        }
      ],
      "execution_count": 13
    },
    {
      "id": "bb389873-d01d-49b5-a741-4467fb79a763",
      "cell_type": "code",
      "source": "print(y)",
      "metadata": {
        "trusted": true
      },
      "outputs": [
        {
          "name": "stdout",
          "output_type": "stream",
          "text": "['Estonian' 'Swedish' 'Thai' ... 'Spanish' 'Chinese' 'Romanian']\n"
        }
      ],
      "execution_count": 14
    },
    {
      "id": "93a66fc0-8cab-4767-9630-a18f11b3762d",
      "cell_type": "code",
      "source": "data",
      "metadata": {
        "trusted": true
      },
      "outputs": [
        {
          "execution_count": 15,
          "output_type": "execute_result",
          "data": {
            "text/plain": "                                                    Text  language\n0      klement gottwaldi surnukeha palsameeriti ning ...  Estonian\n1      sebes joseph pereira thomas  på eng the jesuit...   Swedish\n2      ถนนเจริญกรุง อักษรโรมัน thanon charoen krung เ...      Thai\n3      விசாகப்பட்டினம் தமிழ்ச்சங்கத்தை இந்துப் பத்திர...     Tamil\n4      de spons behoort tot het geslacht haliclona en...     Dutch\n...                                                  ...       ...\n21995  hors du terrain les années  et  sont des année...    French\n21996  ใน พศ  หลักจากที่เสด็จประพาสแหลมมลายู ชวา อินเ...      Thai\n21997  con motivo de la celebración del septuagésimoq...   Spanish\n21998  年月，當時還只有歲的她在美國出道，以mai-k名義推出首張英文《baby i like》，由...   Chinese\n21999   aprilie sonda spațială messenger a nasa și-a ...  Romanian\n\n[22000 rows x 2 columns]",
            "text/html": "<div>\n<style scoped>\n    .dataframe tbody tr th:only-of-type {\n        vertical-align: middle;\n    }\n\n    .dataframe tbody tr th {\n        vertical-align: top;\n    }\n\n    .dataframe thead th {\n        text-align: right;\n    }\n</style>\n<table border=\"1\" class=\"dataframe\">\n  <thead>\n    <tr style=\"text-align: right;\">\n      <th></th>\n      <th>Text</th>\n      <th>language</th>\n    </tr>\n  </thead>\n  <tbody>\n    <tr>\n      <th>0</th>\n      <td>klement gottwaldi surnukeha palsameeriti ning ...</td>\n      <td>Estonian</td>\n    </tr>\n    <tr>\n      <th>1</th>\n      <td>sebes joseph pereira thomas  på eng the jesuit...</td>\n      <td>Swedish</td>\n    </tr>\n    <tr>\n      <th>2</th>\n      <td>ถนนเจริญกรุง อักษรโรมัน thanon charoen krung เ...</td>\n      <td>Thai</td>\n    </tr>\n    <tr>\n      <th>3</th>\n      <td>விசாகப்பட்டினம் தமிழ்ச்சங்கத்தை இந்துப் பத்திர...</td>\n      <td>Tamil</td>\n    </tr>\n    <tr>\n      <th>4</th>\n      <td>de spons behoort tot het geslacht haliclona en...</td>\n      <td>Dutch</td>\n    </tr>\n    <tr>\n      <th>...</th>\n      <td>...</td>\n      <td>...</td>\n    </tr>\n    <tr>\n      <th>21995</th>\n      <td>hors du terrain les années  et  sont des année...</td>\n      <td>French</td>\n    </tr>\n    <tr>\n      <th>21996</th>\n      <td>ใน พศ  หลักจากที่เสด็จประพาสแหลมมลายู ชวา อินเ...</td>\n      <td>Thai</td>\n    </tr>\n    <tr>\n      <th>21997</th>\n      <td>con motivo de la celebración del septuagésimoq...</td>\n      <td>Spanish</td>\n    </tr>\n    <tr>\n      <th>21998</th>\n      <td>年月，當時還只有歲的她在美國出道，以mai-k名義推出首張英文《baby i like》，由...</td>\n      <td>Chinese</td>\n    </tr>\n    <tr>\n      <th>21999</th>\n      <td>aprilie sonda spațială messenger a nasa și-a ...</td>\n      <td>Romanian</td>\n    </tr>\n  </tbody>\n</table>\n<p>22000 rows × 2 columns</p>\n</div>"
          },
          "metadata": {}
        }
      ],
      "execution_count": 15
    },
    {
      "id": "1ea18932-d791-4593-8c1e-e2ede2a1bbbf",
      "cell_type": "code",
      "source": "cv = CountVectorizer()",
      "metadata": {
        "trusted": true
      },
      "outputs": [],
      "execution_count": 16
    },
    {
      "id": "c33546f0-2309-4c65-a0db-22c051bf6206",
      "cell_type": "code",
      "source": "x =  cv.fit_transform(x)",
      "metadata": {
        "trusted": true
      },
      "outputs": [],
      "execution_count": 17
    },
    {
      "id": "2359e8ab-7811-4f77-8aa9-0c0900d6ac54",
      "cell_type": "code",
      "source": "x_train, x_test, y_train, y_test = train_test_split(x, y, test_size=0.50, random_state=42)",
      "metadata": {
        "trusted": true
      },
      "outputs": [],
      "execution_count": 61
    },
    {
      "id": "0020bb5a-5e93-47d7-a9f8-9ef21feca621",
      "cell_type": "code",
      "source": "x_train",
      "metadata": {
        "trusted": true
      },
      "outputs": [
        {
          "execution_count": 62,
          "output_type": "execute_result",
          "data": {
            "text/plain": "<Compressed Sparse Row sparse matrix of dtype 'int64'\n\twith 458386 stored elements and shape (11000, 277720)>"
          },
          "metadata": {}
        }
      ],
      "execution_count": 62
    },
    {
      "id": "c2869bd1-8bcd-4164-94c6-e4bab59a315d",
      "cell_type": "code",
      "source": "print(x_train)",
      "metadata": {
        "trusted": true
      },
      "outputs": [
        {
          "name": "stdout",
          "output_type": "stream",
          "text": "<Compressed Sparse Row sparse matrix of dtype 'int64'\n\twith 458386 stored elements and shape (11000, 277720)>\n  Coords\tValues\n  (0, 77185)\t1\n  (0, 25042)\t6\n  (0, 46769)\t1\n  (0, 33287)\t3\n  (0, 115206)\t5\n  (0, 49905)\t3\n  (0, 29878)\t1\n  (0, 3694)\t2\n  (0, 31937)\t11\n  (0, 69579)\t1\n  (0, 27695)\t2\n  (0, 78274)\t1\n  (0, 78316)\t1\n  (0, 73624)\t1\n  (0, 52372)\t2\n  (0, 55213)\t2\n  (0, 107470)\t1\n  (0, 107433)\t1\n  (0, 27255)\t1\n  (0, 120061)\t1\n  (0, 3461)\t1\n  (0, 122026)\t1\n  (0, 46347)\t1\n  (0, 29066)\t1\n  (0, 11231)\t1\n  :\t:\n  (10998, 188817)\t1\n  (10998, 192004)\t1\n  (10998, 157171)\t1\n  (10998, 190346)\t1\n  (10998, 190725)\t1\n  (10998, 189685)\t1\n  (10998, 159269)\t2\n  (10998, 145431)\t1\n  (10998, 173292)\t1\n  (10998, 176062)\t1\n  (10998, 159959)\t1\n  (10998, 190198)\t1\n  (10998, 167124)\t1\n  (10998, 168158)\t1\n  (10998, 180260)\t2\n  (10998, 153262)\t1\n  (10998, 162150)\t1\n  (10998, 153355)\t1\n  (10998, 178104)\t1\n  (10998, 163770)\t1\n  (10999, 223002)\t1\n  (10999, 235170)\t1\n  (10999, 222446)\t1\n  (10999, 221922)\t1\n  (10999, 242446)\t1\n"
        }
      ],
      "execution_count": 63
    },
    {
      "id": "748badb9-5fa4-49f6-b0ef-8e4d40c9424a",
      "cell_type": "code",
      "source": "y_test",
      "metadata": {
        "trusted": true
      },
      "outputs": [
        {
          "execution_count": 64,
          "output_type": "execute_result",
          "data": {
            "text/plain": "array(['Japanese', 'Russian', 'Latin', ..., 'Estonian', 'Latin',\n       'English'], dtype=object)"
          },
          "metadata": {}
        }
      ],
      "execution_count": 64
    },
    {
      "id": "64cc041c-70bc-4d15-9aef-88eb64958c0f",
      "cell_type": "code",
      "source": "print(y_test)",
      "metadata": {
        "trusted": true
      },
      "outputs": [
        {
          "name": "stdout",
          "output_type": "stream",
          "text": "['Japanese' 'Russian' 'Latin' ... 'Estonian' 'Latin' 'English']\n"
        }
      ],
      "execution_count": 65
    },
    {
      "id": "6b9c7266-c68a-4e0a-bd67-96377c49697f",
      "cell_type": "code",
      "source": "model = MultinomialNB()",
      "metadata": {
        "trusted": true
      },
      "outputs": [],
      "execution_count": 66
    },
    {
      "id": "9e053e12-6216-4222-aa58-5e6a30421fa6",
      "cell_type": "code",
      "source": "model.fit(x_train, y_train)",
      "metadata": {
        "trusted": true
      },
      "outputs": [
        {
          "execution_count": 67,
          "output_type": "execute_result",
          "data": {
            "text/plain": "MultinomialNB()",
            "text/html": "<style>#sk-container-id-5 {\n  /* Definition of color scheme common for light and dark mode */\n  --sklearn-color-text: #000;\n  --sklearn-color-text-muted: #666;\n  --sklearn-color-line: gray;\n  /* Definition of color scheme for unfitted estimators */\n  --sklearn-color-unfitted-level-0: #fff5e6;\n  --sklearn-color-unfitted-level-1: #f6e4d2;\n  --sklearn-color-unfitted-level-2: #ffe0b3;\n  --sklearn-color-unfitted-level-3: chocolate;\n  /* Definition of color scheme for fitted estimators */\n  --sklearn-color-fitted-level-0: #f0f8ff;\n  --sklearn-color-fitted-level-1: #d4ebff;\n  --sklearn-color-fitted-level-2: #b3dbfd;\n  --sklearn-color-fitted-level-3: cornflowerblue;\n\n  /* Specific color for light theme */\n  --sklearn-color-text-on-default-background: var(--sg-text-color, var(--theme-code-foreground, var(--jp-content-font-color1, black)));\n  --sklearn-color-background: var(--sg-background-color, var(--theme-background, var(--jp-layout-color0, white)));\n  --sklearn-color-border-box: var(--sg-text-color, var(--theme-code-foreground, var(--jp-content-font-color1, black)));\n  --sklearn-color-icon: #696969;\n\n  @media (prefers-color-scheme: dark) {\n    /* Redefinition of color scheme for dark theme */\n    --sklearn-color-text-on-default-background: var(--sg-text-color, var(--theme-code-foreground, var(--jp-content-font-color1, white)));\n    --sklearn-color-background: var(--sg-background-color, var(--theme-background, var(--jp-layout-color0, #111)));\n    --sklearn-color-border-box: var(--sg-text-color, var(--theme-code-foreground, var(--jp-content-font-color1, white)));\n    --sklearn-color-icon: #878787;\n  }\n}\n\n#sk-container-id-5 {\n  color: var(--sklearn-color-text);\n}\n\n#sk-container-id-5 pre {\n  padding: 0;\n}\n\n#sk-container-id-5 input.sk-hidden--visually {\n  border: 0;\n  clip: rect(1px 1px 1px 1px);\n  clip: rect(1px, 1px, 1px, 1px);\n  height: 1px;\n  margin: -1px;\n  overflow: hidden;\n  padding: 0;\n  position: absolute;\n  width: 1px;\n}\n\n#sk-container-id-5 div.sk-dashed-wrapped {\n  border: 1px dashed var(--sklearn-color-line);\n  margin: 0 0.4em 0.5em 0.4em;\n  box-sizing: border-box;\n  padding-bottom: 0.4em;\n  background-color: var(--sklearn-color-background);\n}\n\n#sk-container-id-5 div.sk-container {\n  /* jupyter's `normalize.less` sets `[hidden] { display: none; }`\n     but bootstrap.min.css set `[hidden] { display: none !important; }`\n     so we also need the `!important` here to be able to override the\n     default hidden behavior on the sphinx rendered scikit-learn.org.\n     See: https://github.com/scikit-learn/scikit-learn/issues/21755 */\n  display: inline-block !important;\n  position: relative;\n}\n\n#sk-container-id-5 div.sk-text-repr-fallback {\n  display: none;\n}\n\ndiv.sk-parallel-item,\ndiv.sk-serial,\ndiv.sk-item {\n  /* draw centered vertical line to link estimators */\n  background-image: linear-gradient(var(--sklearn-color-text-on-default-background), var(--sklearn-color-text-on-default-background));\n  background-size: 2px 100%;\n  background-repeat: no-repeat;\n  background-position: center center;\n}\n\n/* Parallel-specific style estimator block */\n\n#sk-container-id-5 div.sk-parallel-item::after {\n  content: \"\";\n  width: 100%;\n  border-bottom: 2px solid var(--sklearn-color-text-on-default-background);\n  flex-grow: 1;\n}\n\n#sk-container-id-5 div.sk-parallel {\n  display: flex;\n  align-items: stretch;\n  justify-content: center;\n  background-color: var(--sklearn-color-background);\n  position: relative;\n}\n\n#sk-container-id-5 div.sk-parallel-item {\n  display: flex;\n  flex-direction: column;\n}\n\n#sk-container-id-5 div.sk-parallel-item:first-child::after {\n  align-self: flex-end;\n  width: 50%;\n}\n\n#sk-container-id-5 div.sk-parallel-item:last-child::after {\n  align-self: flex-start;\n  width: 50%;\n}\n\n#sk-container-id-5 div.sk-parallel-item:only-child::after {\n  width: 0;\n}\n\n/* Serial-specific style estimator block */\n\n#sk-container-id-5 div.sk-serial {\n  display: flex;\n  flex-direction: column;\n  align-items: center;\n  background-color: var(--sklearn-color-background);\n  padding-right: 1em;\n  padding-left: 1em;\n}\n\n\n/* Toggleable style: style used for estimator/Pipeline/ColumnTransformer box that is\nclickable and can be expanded/collapsed.\n- Pipeline and ColumnTransformer use this feature and define the default style\n- Estimators will overwrite some part of the style using the `sk-estimator` class\n*/\n\n/* Pipeline and ColumnTransformer style (default) */\n\n#sk-container-id-5 div.sk-toggleable {\n  /* Default theme specific background. It is overwritten whether we have a\n  specific estimator or a Pipeline/ColumnTransformer */\n  background-color: var(--sklearn-color-background);\n}\n\n/* Toggleable label */\n#sk-container-id-5 label.sk-toggleable__label {\n  cursor: pointer;\n  display: flex;\n  width: 100%;\n  margin-bottom: 0;\n  padding: 0.5em;\n  box-sizing: border-box;\n  text-align: center;\n  align-items: start;\n  justify-content: space-between;\n  gap: 0.5em;\n}\n\n#sk-container-id-5 label.sk-toggleable__label .caption {\n  font-size: 0.6rem;\n  font-weight: lighter;\n  color: var(--sklearn-color-text-muted);\n}\n\n#sk-container-id-5 label.sk-toggleable__label-arrow:before {\n  /* Arrow on the left of the label */\n  content: \"▸\";\n  float: left;\n  margin-right: 0.25em;\n  color: var(--sklearn-color-icon);\n}\n\n#sk-container-id-5 label.sk-toggleable__label-arrow:hover:before {\n  color: var(--sklearn-color-text);\n}\n\n/* Toggleable content - dropdown */\n\n#sk-container-id-5 div.sk-toggleable__content {\n  max-height: 0;\n  max-width: 0;\n  overflow: hidden;\n  text-align: left;\n  /* unfitted */\n  background-color: var(--sklearn-color-unfitted-level-0);\n}\n\n#sk-container-id-5 div.sk-toggleable__content.fitted {\n  /* fitted */\n  background-color: var(--sklearn-color-fitted-level-0);\n}\n\n#sk-container-id-5 div.sk-toggleable__content pre {\n  margin: 0.2em;\n  border-radius: 0.25em;\n  color: var(--sklearn-color-text);\n  /* unfitted */\n  background-color: var(--sklearn-color-unfitted-level-0);\n}\n\n#sk-container-id-5 div.sk-toggleable__content.fitted pre {\n  /* unfitted */\n  background-color: var(--sklearn-color-fitted-level-0);\n}\n\n#sk-container-id-5 input.sk-toggleable__control:checked~div.sk-toggleable__content {\n  /* Expand drop-down */\n  max-height: 200px;\n  max-width: 100%;\n  overflow: auto;\n}\n\n#sk-container-id-5 input.sk-toggleable__control:checked~label.sk-toggleable__label-arrow:before {\n  content: \"▾\";\n}\n\n/* Pipeline/ColumnTransformer-specific style */\n\n#sk-container-id-5 div.sk-label input.sk-toggleable__control:checked~label.sk-toggleable__label {\n  color: var(--sklearn-color-text);\n  background-color: var(--sklearn-color-unfitted-level-2);\n}\n\n#sk-container-id-5 div.sk-label.fitted input.sk-toggleable__control:checked~label.sk-toggleable__label {\n  background-color: var(--sklearn-color-fitted-level-2);\n}\n\n/* Estimator-specific style */\n\n/* Colorize estimator box */\n#sk-container-id-5 div.sk-estimator input.sk-toggleable__control:checked~label.sk-toggleable__label {\n  /* unfitted */\n  background-color: var(--sklearn-color-unfitted-level-2);\n}\n\n#sk-container-id-5 div.sk-estimator.fitted input.sk-toggleable__control:checked~label.sk-toggleable__label {\n  /* fitted */\n  background-color: var(--sklearn-color-fitted-level-2);\n}\n\n#sk-container-id-5 div.sk-label label.sk-toggleable__label,\n#sk-container-id-5 div.sk-label label {\n  /* The background is the default theme color */\n  color: var(--sklearn-color-text-on-default-background);\n}\n\n/* On hover, darken the color of the background */\n#sk-container-id-5 div.sk-label:hover label.sk-toggleable__label {\n  color: var(--sklearn-color-text);\n  background-color: var(--sklearn-color-unfitted-level-2);\n}\n\n/* Label box, darken color on hover, fitted */\n#sk-container-id-5 div.sk-label.fitted:hover label.sk-toggleable__label.fitted {\n  color: var(--sklearn-color-text);\n  background-color: var(--sklearn-color-fitted-level-2);\n}\n\n/* Estimator label */\n\n#sk-container-id-5 div.sk-label label {\n  font-family: monospace;\n  font-weight: bold;\n  display: inline-block;\n  line-height: 1.2em;\n}\n\n#sk-container-id-5 div.sk-label-container {\n  text-align: center;\n}\n\n/* Estimator-specific */\n#sk-container-id-5 div.sk-estimator {\n  font-family: monospace;\n  border: 1px dotted var(--sklearn-color-border-box);\n  border-radius: 0.25em;\n  box-sizing: border-box;\n  margin-bottom: 0.5em;\n  /* unfitted */\n  background-color: var(--sklearn-color-unfitted-level-0);\n}\n\n#sk-container-id-5 div.sk-estimator.fitted {\n  /* fitted */\n  background-color: var(--sklearn-color-fitted-level-0);\n}\n\n/* on hover */\n#sk-container-id-5 div.sk-estimator:hover {\n  /* unfitted */\n  background-color: var(--sklearn-color-unfitted-level-2);\n}\n\n#sk-container-id-5 div.sk-estimator.fitted:hover {\n  /* fitted */\n  background-color: var(--sklearn-color-fitted-level-2);\n}\n\n/* Specification for estimator info (e.g. \"i\" and \"?\") */\n\n/* Common style for \"i\" and \"?\" */\n\n.sk-estimator-doc-link,\na:link.sk-estimator-doc-link,\na:visited.sk-estimator-doc-link {\n  float: right;\n  font-size: smaller;\n  line-height: 1em;\n  font-family: monospace;\n  background-color: var(--sklearn-color-background);\n  border-radius: 1em;\n  height: 1em;\n  width: 1em;\n  text-decoration: none !important;\n  margin-left: 0.5em;\n  text-align: center;\n  /* unfitted */\n  border: var(--sklearn-color-unfitted-level-1) 1pt solid;\n  color: var(--sklearn-color-unfitted-level-1);\n}\n\n.sk-estimator-doc-link.fitted,\na:link.sk-estimator-doc-link.fitted,\na:visited.sk-estimator-doc-link.fitted {\n  /* fitted */\n  border: var(--sklearn-color-fitted-level-1) 1pt solid;\n  color: var(--sklearn-color-fitted-level-1);\n}\n\n/* On hover */\ndiv.sk-estimator:hover .sk-estimator-doc-link:hover,\n.sk-estimator-doc-link:hover,\ndiv.sk-label-container:hover .sk-estimator-doc-link:hover,\n.sk-estimator-doc-link:hover {\n  /* unfitted */\n  background-color: var(--sklearn-color-unfitted-level-3);\n  color: var(--sklearn-color-background);\n  text-decoration: none;\n}\n\ndiv.sk-estimator.fitted:hover .sk-estimator-doc-link.fitted:hover,\n.sk-estimator-doc-link.fitted:hover,\ndiv.sk-label-container:hover .sk-estimator-doc-link.fitted:hover,\n.sk-estimator-doc-link.fitted:hover {\n  /* fitted */\n  background-color: var(--sklearn-color-fitted-level-3);\n  color: var(--sklearn-color-background);\n  text-decoration: none;\n}\n\n/* Span, style for the box shown on hovering the info icon */\n.sk-estimator-doc-link span {\n  display: none;\n  z-index: 9999;\n  position: relative;\n  font-weight: normal;\n  right: .2ex;\n  padding: .5ex;\n  margin: .5ex;\n  width: min-content;\n  min-width: 20ex;\n  max-width: 50ex;\n  color: var(--sklearn-color-text);\n  box-shadow: 2pt 2pt 4pt #999;\n  /* unfitted */\n  background: var(--sklearn-color-unfitted-level-0);\n  border: .5pt solid var(--sklearn-color-unfitted-level-3);\n}\n\n.sk-estimator-doc-link.fitted span {\n  /* fitted */\n  background: var(--sklearn-color-fitted-level-0);\n  border: var(--sklearn-color-fitted-level-3);\n}\n\n.sk-estimator-doc-link:hover span {\n  display: block;\n}\n\n/* \"?\"-specific style due to the `<a>` HTML tag */\n\n#sk-container-id-5 a.estimator_doc_link {\n  float: right;\n  font-size: 1rem;\n  line-height: 1em;\n  font-family: monospace;\n  background-color: var(--sklearn-color-background);\n  border-radius: 1rem;\n  height: 1rem;\n  width: 1rem;\n  text-decoration: none;\n  /* unfitted */\n  color: var(--sklearn-color-unfitted-level-1);\n  border: var(--sklearn-color-unfitted-level-1) 1pt solid;\n}\n\n#sk-container-id-5 a.estimator_doc_link.fitted {\n  /* fitted */\n  border: var(--sklearn-color-fitted-level-1) 1pt solid;\n  color: var(--sklearn-color-fitted-level-1);\n}\n\n/* On hover */\n#sk-container-id-5 a.estimator_doc_link:hover {\n  /* unfitted */\n  background-color: var(--sklearn-color-unfitted-level-3);\n  color: var(--sklearn-color-background);\n  text-decoration: none;\n}\n\n#sk-container-id-5 a.estimator_doc_link.fitted:hover {\n  /* fitted */\n  background-color: var(--sklearn-color-fitted-level-3);\n}\n</style><div id=\"sk-container-id-5\" class=\"sk-top-container\"><div class=\"sk-text-repr-fallback\"><pre>MultinomialNB()</pre><b>In a Jupyter environment, please rerun this cell to show the HTML representation or trust the notebook. <br />On GitHub, the HTML representation is unable to render, please try loading this page with nbviewer.org.</b></div><div class=\"sk-container\" hidden><div class=\"sk-item\"><div class=\"sk-estimator fitted sk-toggleable\"><input class=\"sk-toggleable__control sk-hidden--visually\" id=\"sk-estimator-id-5\" type=\"checkbox\" checked><label for=\"sk-estimator-id-5\" class=\"sk-toggleable__label fitted sk-toggleable__label-arrow\"><div><div>MultinomialNB</div></div><div><a class=\"sk-estimator-doc-link fitted\" rel=\"noreferrer\" target=\"_blank\" href=\"https://scikit-learn.org/1.6/modules/generated/sklearn.naive_bayes.MultinomialNB.html\">?<span>Documentation for MultinomialNB</span></a><span class=\"sk-estimator-doc-link fitted\">i<span>Fitted</span></span></div></label><div class=\"sk-toggleable__content fitted\"><pre>MultinomialNB()</pre></div> </div></div></div></div>"
          },
          "metadata": {}
        }
      ],
      "execution_count": 67
    },
    {
      "id": "8d38e335-7039-49b0-8438-7d4c803e2405",
      "cell_type": "code",
      "source": "model.score(x_test, y_test)",
      "metadata": {
        "trusted": true
      },
      "outputs": [
        {
          "execution_count": 68,
          "output_type": "execute_result",
          "data": {
            "text/plain": "0.9506363636363636"
          },
          "metadata": {}
        }
      ],
      "execution_count": 68
    },
    {
      "id": "2bfd2578-a1e9-4ec2-9d2f-6384ec8bd269",
      "cell_type": "code",
      "source": "user = input(\" enter text\")\ndata = cv.transform([user]).toarray()\noutput = model.predict(data)\nprint(output)\n\n\n\n",
      "metadata": {
        "trusted": true
      },
      "outputs": [
        {
          "output_type": "stream",
          "name": "stdin",
          "text": " enter text salut, je le suis\n"
        },
        {
          "name": "stdout",
          "output_type": "stream",
          "text": "['French']\n"
        }
      ],
      "execution_count": 74
    },
    {
      "id": "cec259e7-99a8-482a-be38-c52aeffefa05",
      "cell_type": "code",
      "source": "",
      "metadata": {
        "trusted": true
      },
      "outputs": [],
      "execution_count": null
    }
  ]
}